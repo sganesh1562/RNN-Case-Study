{
  "nbformat": 4,
  "nbformat_minor": 0,
  "metadata": {
    "colab": {
      "name": "RNN_Case_Study.ipynb",
      "provenance": []
    },
    "kernelspec": {
      "name": "python3",
      "display_name": "Python 3"
    },
    "language_info": {
      "name": "python"
    }
  },
  "cells": [
    {
      "cell_type": "code",
      "metadata": {
        "id": "RjAVN-Aa8xK2"
      },
      "source": [
        "import numpy as np\n",
        "import tensorflow as tf"
      ],
      "execution_count": 1,
      "outputs": []
    },
    {
      "cell_type": "code",
      "metadata": {
        "id": "eKIjoClAEmY7"
      },
      "source": [
        "from tensorflow.keras.datasets import imdb #imdb holds the text reviews of multiple movies"
      ],
      "execution_count": 2,
      "outputs": []
    },
    {
      "cell_type": "code",
      "metadata": {
        "id": "UWHvpaJTE-Wm"
      },
      "source": [
        "#setting the parameter for the dataset\n",
        "number_of_words=20000 #vocabulary with most frequently used words\n",
        "max_len=100"
      ],
      "execution_count": 3,
      "outputs": []
    },
    {
      "cell_type": "code",
      "metadata": {
        "colab": {
          "base_uri": "https://localhost:8080/"
        },
        "id": "LDrypbfFFjgU",
        "outputId": "4d829584-2113-4b4b-d4a5-5947f7cb6ef9"
      },
      "source": [
        "#loading and splitting the dataset\n",
        "(X_train,y_train),(X_test,y_test)=imdb.load_data(num_words=number_of_words)"
      ],
      "execution_count": 4,
      "outputs": [
        {
          "output_type": "stream",
          "name": "stdout",
          "text": [
            "Downloading data from https://storage.googleapis.com/tensorflow/tf-keras-datasets/imdb.npz\n",
            "17465344/17464789 [==============================] - 0s 0us/step\n",
            "17473536/17464789 [==============================] - 0s 0us/step\n"
          ]
        }
      ]
    },
    {
      "cell_type": "code",
      "metadata": {
        "id": "OldCACRGF3kw"
      },
      "source": [
        "#padding the sequence to same length\n",
        "X_train=tf.keras.preprocessing.sequence.pad_sequences(X_train,maxlen=max_len)"
      ],
      "execution_count": 5,
      "outputs": []
    },
    {
      "cell_type": "code",
      "metadata": {
        "id": "x_TShoAHGNgV"
      },
      "source": [
        "X_test=tf.keras.preprocessing.sequence.pad_sequences(X_test,maxlen=max_len)"
      ],
      "execution_count": 6,
      "outputs": []
    },
    {
      "cell_type": "code",
      "metadata": {
        "id": "VXoO_NTTGV-m"
      },
      "source": [
        "#setting up the layers\n",
        "vocab_size=number_of_words"
      ],
      "execution_count": 7,
      "outputs": []
    },
    {
      "cell_type": "code",
      "metadata": {
        "colab": {
          "base_uri": "https://localhost:8080/"
        },
        "id": "-Z4E21e2GkfA",
        "outputId": "010f2ea5-b716-4a74-c777-928df8c50ed2"
      },
      "source": [
        "vocab_size"
      ],
      "execution_count": 8,
      "outputs": [
        {
          "output_type": "execute_result",
          "data": {
            "text/plain": [
              "20000"
            ]
          },
          "metadata": {},
          "execution_count": 8
        }
      ]
    },
    {
      "cell_type": "code",
      "metadata": {
        "id": "qctc8TcuGl_g"
      },
      "source": [
        "embed_size=128"
      ],
      "execution_count": 9,
      "outputs": []
    },
    {
      "cell_type": "code",
      "metadata": {
        "id": "h4baIup-GuUq"
      },
      "source": [
        "#defining the model\n",
        "model=tf.keras.Sequential()"
      ],
      "execution_count": 10,
      "outputs": []
    },
    {
      "cell_type": "code",
      "metadata": {
        "id": "yD9smFhmG4kv"
      },
      "source": [
        "model.add(tf.keras.layers.Embedding(vocab_size,embed_size,input_shape=(X_train.shape[1],)))"
      ],
      "execution_count": 11,
      "outputs": []
    },
    {
      "cell_type": "code",
      "metadata": {
        "id": "rCvinJ1-HQFk"
      },
      "source": [
        "model.add(tf.keras.layers.LSTM(units=128,activation='tanh'))"
      ],
      "execution_count": 12,
      "outputs": []
    },
    {
      "cell_type": "code",
      "metadata": {
        "id": "N7fvyDveIJvU"
      },
      "source": [
        "#adding the output layer\n",
        "model.add(tf.keras.layers.Dense(units=1,activation='sigmoid'))"
      ],
      "execution_count": 13,
      "outputs": []
    },
    {
      "cell_type": "code",
      "metadata": {
        "id": "k_SUhn8tIWJq"
      },
      "source": [
        "#compiling the model\n",
        "model.compile(optimizer='AdaGrad',loss='binary_crossentropy',metrics=['accuracy'])"
      ],
      "execution_count": 14,
      "outputs": []
    },
    {
      "cell_type": "code",
      "metadata": {
        "colab": {
          "base_uri": "https://localhost:8080/"
        },
        "id": "avdpwJo9JMuZ",
        "outputId": "406a2f2c-a533-4b29-a22e-ed8673754930"
      },
      "source": [
        "model.summary()"
      ],
      "execution_count": 15,
      "outputs": [
        {
          "output_type": "stream",
          "name": "stdout",
          "text": [
            "Model: \"sequential\"\n",
            "_________________________________________________________________\n",
            "Layer (type)                 Output Shape              Param #   \n",
            "=================================================================\n",
            "embedding (Embedding)        (None, 100, 128)          2560000   \n",
            "_________________________________________________________________\n",
            "lstm (LSTM)                  (None, 128)               131584    \n",
            "_________________________________________________________________\n",
            "dense (Dense)                (None, 1)                 129       \n",
            "=================================================================\n",
            "Total params: 2,691,713\n",
            "Trainable params: 2,691,713\n",
            "Non-trainable params: 0\n",
            "_________________________________________________________________\n"
          ]
        }
      ]
    },
    {
      "cell_type": "code",
      "metadata": {
        "colab": {
          "base_uri": "https://localhost:8080/"
        },
        "id": "ew5PThZWJO44",
        "outputId": "a42eab7a-571e-422a-88f5-47edb5bf8b66"
      },
      "source": [
        "#training the model\n",
        "model.fit(X_train,y_train,epochs=3,batch_size=128)"
      ],
      "execution_count": 16,
      "outputs": [
        {
          "output_type": "stream",
          "name": "stdout",
          "text": [
            "Epoch 1/3\n",
            "196/196 [==============================] - 79s 394ms/step - loss: 0.6930 - accuracy: 0.5092\n",
            "Epoch 2/3\n",
            "196/196 [==============================] - 78s 397ms/step - loss: 0.6930 - accuracy: 0.5104\n",
            "Epoch 3/3\n",
            "196/196 [==============================] - 78s 398ms/step - loss: 0.6930 - accuracy: 0.5116\n"
          ]
        },
        {
          "output_type": "execute_result",
          "data": {
            "text/plain": [
              "<keras.callbacks.History at 0x7fed88e18fd0>"
            ]
          },
          "metadata": {},
          "execution_count": 16
        }
      ]
    },
    {
      "cell_type": "code",
      "metadata": {
        "id": "KtmUaeY9Jfw2"
      },
      "source": [
        ""
      ],
      "execution_count": null,
      "outputs": []
    }
  ]
}